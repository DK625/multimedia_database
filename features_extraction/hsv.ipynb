{
 "cells": [
  {
   "cell_type": "markdown",
   "metadata": {},
   "source": [
    "IMport library"
   ]
  },
  {
   "cell_type": "code",
   "execution_count": 40,
   "metadata": {},
   "outputs": [],
   "source": [
    "\n",
    "#imports\n",
    "import pandas as pd\n",
    "import matplotlib.pyplot as plt\n",
    "import seaborn as sns\n",
    "import os\n",
    "import random\n",
    "import numpy as np\n",
    "import cv2"
   ]
  },
  {
   "cell_type": "code",
   "execution_count": 41,
   "metadata": {},
   "outputs": [],
   "source": [
    "path = 'D:\\\\workspace\\\\multimedia_database\\\\data_process_preparing\\\\delete_background_images\\\\rock_mountains'\n",
    "\n",
    "\n",
    "flower_data = []\n",
    "img_size = (496, 496)\n",
    "for img in os.listdir(path):\n",
    "        img_array = cv2.imread(os.path.join(path, img), cv2.COLOR_BGR2RGB)\n",
    "        img_array = cv2.resize(img_array, img_size)\n",
    "        # flower_data.append([ img,img_array])\n",
    "        flower_data.append(img_array)\n"
   ]
  },
  {
   "cell_type": "markdown",
   "metadata": {},
   "source": [
    "hàm trích đặc trưng màu"
   ]
  },
  {
   "cell_type": "code",
   "execution_count": 42,
   "metadata": {},
   "outputs": [],
   "source": [
    "def rgb_to_hsv(pixel):\n",
    "    r, g, b = pixel\n",
    "    r , g ,b = b / 255.0, g / 255.0, r / 255.0\n",
    "    \n",
    "    v = max(r,g,b)\n",
    "    delta = v - min(r,g,b)\n",
    "    \n",
    "    if delta == 0:\n",
    "        h = 0\n",
    "        s = 0\n",
    "    else:\n",
    "        s = delta / v\n",
    "        if r == v:\n",
    "            h = (g - b) / delta\n",
    "        elif g == v:\n",
    "            h = 2 + (b - r) / delta\n",
    "        else:\n",
    "            h = 4 + (r - g) / delta\n",
    "        h = (h / 6) % 1.0\n",
    "        \n",
    "    return [int(h*180), int(s*255), int(v*255)]\n",
    "\n",
    "def covert_image_rgb_to_hsv(img):\n",
    "  hsv_image=[]\n",
    "  for i in img:\n",
    "    hsv_image2=[]\n",
    "    for j in i:\n",
    "      new_color=rgb_to_hsv(j)\n",
    "      hsv_image2.append((new_color))\n",
    "    hsv_image.append(hsv_image2)\n",
    "  hsv_image=np.array(hsv_image)\n",
    "  return hsv_image\n",
    "\n",
    "def my_calcHist(image, channels, histSize, ranges):\n",
    "    # Khởi tạo histogram với tất cả giá trị bằng 0\n",
    "    hist = np.zeros(histSize, dtype=np.int64)\n",
    "    # Lặp qua tất cả các pixel trong ảnh\n",
    "    for i in range(image.shape[0]):\n",
    "        for j in range(image.shape[1]):\n",
    "            # Lấy giá trị của kênh màu được chỉ định\n",
    "            bin_vals = [image[i, j, c] for c in channels]\n",
    "            # Tính chỉ số của bin\n",
    "            bin_idxs = [(bin_vals[c] - ranges[c][0]) * histSize[c] // (ranges[c][1] - ranges[c][0]) for c in range(len(channels))]\n",
    "            # Tăng giá trị của bin tương ứng lên 1\n",
    "            hist[tuple(bin_idxs)] += 1\n",
    "    return hist"
   ]
  },
  {
   "cell_type": "markdown",
   "metadata": {},
   "source": [
    "trich xuat hsv"
   ]
  },
  {
   "cell_type": "code",
   "execution_count": 43,
   "metadata": {},
   "outputs": [
    {
     "name": "stdout",
     "output_type": "stream",
     "text": [
      "0 1 2 3 4 5 6 7 8 9 10 11 12 13 14 15 16 17 18 19 20 21 22 "
     ]
    }
   ],
   "source": [
    "data_HSV=[]\n",
    "for i in range(len(flower_data)) :\n",
    "  # Đọc ảnh và chuyển đổi sang không gian màu HSV\n",
    "  img = flower_data[i]\n",
    "  bins = [8,12,3]\n",
    "  ranges = [[0, 180], [0, 256], [0, 256]]\n",
    "  img_hsv=covert_image_rgb_to_hsv(img)\n",
    "  hist_my = my_calcHist(img_hsv, [0, 1, 2], bins, ranges)\n",
    "  # print(hist_my.shape)\n",
    "  embedding = hist_my.flatten()\n",
    "  embedding[0]=0\n",
    "  data_HSV.append(embedding)\n",
    "  print(i,end=' ')\n"
   ]
  },
  {
   "cell_type": "code",
   "execution_count": 44,
   "metadata": {},
   "outputs": [],
   "source": [
    "np.save(\"HSV.npy\", data_HSV)"
   ]
  },
  {
   "cell_type": "code",
   "execution_count": null,
   "metadata": {},
   "outputs": [],
   "source": []
  }
 ],
 "metadata": {
  "kernelspec": {
   "display_name": "Python 3",
   "language": "python",
   "name": "python3"
  },
  "language_info": {
   "codemirror_mode": {
    "name": "ipython",
    "version": 3
   },
   "file_extension": ".py",
   "mimetype": "text/x-python",
   "name": "python",
   "nbconvert_exporter": "python",
   "pygments_lexer": "ipython3",
   "version": "3.12.3"
  }
 },
 "nbformat": 4,
 "nbformat_minor": 2
}
