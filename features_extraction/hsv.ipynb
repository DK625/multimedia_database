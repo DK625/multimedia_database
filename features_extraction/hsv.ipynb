{
 "cells": [
  {
   "cell_type": "markdown",
   "metadata": {},
   "source": [
    "IMport library"
   ]
  },
  {
   "cell_type": "code",
   "metadata": {
    "ExecuteTime": {
     "end_time": "2024-05-28T14:14:05.951744Z",
     "start_time": "2024-05-28T14:11:57.548446Z"
    }
   },
   "source": [
    "\n",
    "#imports\n",
    "import pandas as pd\n",
    "import matplotlib.pyplot as plt\n",
    "import seaborn as sns\n",
    "import os\n",
    "import random\n",
    "import numpy as np\n",
    "import cv2\n",
    "from data_process_preparing.same_statio import output_folder"
   ],
   "outputs": [],
   "execution_count": 8
  },
  {
   "metadata": {
    "ExecuteTime": {
     "end_time": "2024-05-28T14:05:38.825430Z",
     "start_time": "2024-05-28T14:05:38.801103Z"
    }
   },
   "cell_type": "code",
   "source": [
    "\n",
    "# path = 'D:\\\\workspace\\\\multimedia_database\\\\data_process_preparing\\\\delete_background_images\\\\rock_mountains'\n",
    "# path = output_folder\n",
    "features_extraction_path = os.path.dirname(__file__)\n",
    "path = os.path.join(features_extraction_path, 'rock_mountains')\n",
    "\n",
    "flower_data = []\n",
    "img_size = (496, 496)\n",
    "for img in os.listdir(path):\n",
    "        img_array = cv2.imread(os.path.join(path, img), cv2.COLOR_BGR2RGB)\n",
    "        img_array = cv2.resize(img_array, img_size)\n",
    "        # flower_data.append([ img,img_array])\n",
    "        flower_data.append(img_array)\n"
   ],
   "outputs": [
    {
     "ename": "NameError",
     "evalue": "name '__file__' is not defined",
     "output_type": "error",
     "traceback": [
      "\u001B[0;31m---------------------------------------------------------------------------\u001B[0m",
      "\u001B[0;31mNameError\u001B[0m                                 Traceback (most recent call last)",
      "Cell \u001B[0;32mIn[5], line 3\u001B[0m\n\u001B[1;32m      1\u001B[0m \u001B[38;5;66;03m# path = 'D:\\\\workspace\\\\multimedia_database\\\\data_process_preparing\\\\delete_background_images\\\\rock_mountains'\u001B[39;00m\n\u001B[1;32m      2\u001B[0m \u001B[38;5;66;03m# path = output_folder\u001B[39;00m\n\u001B[0;32m----> 3\u001B[0m features_extraction_path \u001B[38;5;241m=\u001B[39m os\u001B[38;5;241m.\u001B[39mpath\u001B[38;5;241m.\u001B[39mdirname(\u001B[38;5;18;43m__file__\u001B[39;49m)\n\u001B[1;32m      4\u001B[0m path \u001B[38;5;241m=\u001B[39m os\u001B[38;5;241m.\u001B[39mpath\u001B[38;5;241m.\u001B[39mjoin(features_extraction_path, \u001B[38;5;124m'\u001B[39m\u001B[38;5;124mrock_mountains\u001B[39m\u001B[38;5;124m'\u001B[39m)\n\u001B[1;32m      6\u001B[0m flower_data \u001B[38;5;241m=\u001B[39m []\n",
      "\u001B[0;31mNameError\u001B[0m: name '__file__' is not defined"
     ]
    }
   ],
   "execution_count": 5
  },
  {
   "metadata": {},
   "cell_type": "markdown",
   "source": "hàm trích đặc trưng màu"
  },
  {
   "metadata": {},
   "cell_type": "code",
   "outputs": [],
   "execution_count": 42,
   "source": [
    "def rgb_to_hsv(pixel):\n",
    "    r, g, b = pixel\n",
    "    r , g ,b = b / 255.0, g / 255.0, r / 255.0\n",
    "    \n",
    "    v = max(r,g,b)\n",
    "    delta = v - min(r,g,b)\n",
    "    \n",
    "    if delta == 0:\n",
    "        h = 0\n",
    "        s = 0\n",
    "    else:\n",
    "        s = delta / v\n",
    "        if r == v:\n",
    "            h = (g - b) / delta\n",
    "        elif g == v:\n",
    "            h = 2 + (b - r) / delta\n",
    "        else:\n",
    "            h = 4 + (r - g) / delta\n",
    "        h = (h / 6) % 1.0\n",
    "        \n",
    "    return [int(h*180), int(s*255), int(v*255)]\n",
    "\n",
    "def covert_image_rgb_to_hsv(img):\n",
    "  hsv_image=[]\n",
    "  for i in img:\n",
    "    hsv_image2=[]\n",
    "    for j in i:\n",
    "      new_color=rgb_to_hsv(j)\n",
    "      hsv_image2.append((new_color))\n",
    "    hsv_image.append(hsv_image2)\n",
    "  hsv_image=np.array(hsv_image)\n",
    "  return hsv_image\n",
    "\n",
    "def my_calcHist(image, channels, histSize, ranges):\n",
    "    # Khởi tạo histogram với tất cả giá trị bằng 0\n",
    "    hist = np.zeros(histSize, dtype=np.int64)\n",
    "    # Lặp qua tất cả các pixel trong ảnh\n",
    "    for i in range(image.shape[0]):\n",
    "        for j in range(image.shape[1]):\n",
    "            # Lấy giá trị của kênh màu được chỉ định\n",
    "            bin_vals = [image[i, j, c] for c in channels]\n",
    "            # Tính chỉ số của bin\n",
    "            bin_idxs = [(bin_vals[c] - ranges[c][0]) * histSize[c] // (ranges[c][1] - ranges[c][0]) for c in range(len(channels))]\n",
    "            # Tăng giá trị của bin tương ứng lên 1\n",
    "            hist[tuple(bin_idxs)] += 1\n",
    "    return hist"
   ]
  },
  {
   "metadata": {},
   "cell_type": "markdown",
   "source": "trich xuat hsv"
  },
  {
   "metadata": {},
   "cell_type": "code",
   "outputs": [
    {
     "name": "stdout",
     "output_type": "stream",
     "text": [
      "0 1 2 3 4 5 6 7 8 9 10 11 12 13 14 15 16 17 18 19 20 21 22 "
     ]
    }
   ],
   "execution_count": 43,
   "source": [
    "data_HSV=[]\n",
    "for i in range(len(flower_data)) :\n",
    "  # Đọc ảnh và chuyển đổi sang không gian màu HSV\n",
    "  img = flower_data[i]\n",
    "  bins = [8,12,3]\n",
    "  ranges = [[0, 180], [0, 256], [0, 256]]\n",
    "  img_hsv=covert_image_rgb_to_hsv(img)\n",
    "  hist_my = my_calcHist(img_hsv, [0, 1, 2], bins, ranges)\n",
    "  # print(hist_my.shape)\n",
    "  embedding = hist_my.flatten()\n",
    "  embedding[0]=0\n",
    "  data_HSV.append(embedding)\n",
    "  print(i,end=' ')\n"
   ]
  },
  {
   "metadata": {},
   "cell_type": "code",
   "outputs": [],
   "execution_count": 44,
   "source": "np.save(\"HSV.npy\", data_HSV)"
  },
  {
   "metadata": {},
   "cell_type": "code",
   "outputs": [],
   "execution_count": null,
   "source": ""
  }
 ],
 "metadata": {
  "kernelspec": {
   "display_name": "Python 3",
   "language": "python",
   "name": "python3"
  },
  "language_info": {
   "codemirror_mode": {
    "name": "ipython",
    "version": 3
   },
   "file_extension": ".py",
   "mimetype": "text/x-python",
   "name": "python",
   "nbconvert_exporter": "python",
   "pygments_lexer": "ipython3",
   "version": "3.12.3"
  }
 },
 "nbformat": 4,
 "nbformat_minor": 2
}
